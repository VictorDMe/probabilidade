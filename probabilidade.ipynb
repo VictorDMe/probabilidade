{
 "cells": [
  {
   "cell_type": "markdown",
   "id": "76410105-0867-4517-9889-4da97d07a025",
   "metadata": {},
   "source": [
    "# Probalidade"
   ]
  },
  {
   "cell_type": "code",
   "execution_count": 1,
   "id": "3995c332-3d4f-4d43-9eb0-ad0c962309d9",
   "metadata": {},
   "outputs": [],
   "source": [
    "import random"
   ]
  },
  {
   "cell_type": "markdown",
   "id": "800e5055-8874-40eb-b5cb-92649a136995",
   "metadata": {},
   "source": [
    "Utilizaremos o módulo random para sortear valores diversos e, assim, ter uma probabilidade mais sólida"
   ]
  },
  {
   "cell_type": "code",
   "execution_count": 2,
   "id": "6404e1c6-cf20-4471-950b-f0cf4c9eb562",
   "metadata": {},
   "outputs": [],
   "source": [
    "from tabulate import tabulate"
   ]
  },
  {
   "cell_type": "markdown",
   "id": "12f097ca-6cd5-4704-8608-cb584db80de5",
   "metadata": {},
   "source": [
    "Iremos usar o módulo tabulate para criar tabelas com os resultados obtidos"
   ]
  },
  {
   "cell_type": "code",
   "execution_count": 3,
   "id": "443a6e21-7406-4dc9-8cc7-27ace4f5a06b",
   "metadata": {},
   "outputs": [],
   "source": [
    "quantidadeRoletadas = 500000"
   ]
  },
  {
   "cell_type": "markdown",
   "id": "ac5b9a90-1167-47a1-ad2a-002eb283fd72",
   "metadata": {},
   "source": [
    "Aqui iremos apenas colocar a quantidade de roletadas que serão feitas para cada um dos testes deste documento"
   ]
  },
  {
   "cell_type": "markdown",
   "id": "aea4d87e-62d3-48b2-9a42-7be48617f989",
   "metadata": {},
   "source": [
    "---"
   ]
  },
  {
   "cell_type": "markdown",
   "id": "9a05c770-09dc-44db-b051-6fa8fddbbe4e",
   "metadata": {},
   "source": [
    "## Lançamento de moeda"
   ]
  },
  {
   "cell_type": "markdown",
   "id": "46f76b63-df33-4627-9b32-4b6e873a8c28",
   "metadata": {},
   "source": [
    "O primeiro teste será de um simples lançamento de moeda. Como sabemos, os únicos resultados possíveis é cara ou coroa, ou seja, a probalidade será de, aproximadamente, 50%"
   ]
  },
  {
   "cell_type": "code",
   "execution_count": 4,
   "id": "07ca71cf-9e32-48f7-897f-7f4002ba2e7e",
   "metadata": {},
   "outputs": [],
   "source": [
    "def jogarMoeda():\n",
    "    moeda = ('cara', 'coroa')\n",
    "    return random.choice(moeda)"
   ]
  },
  {
   "cell_type": "code",
   "execution_count": 5,
   "id": "1ddd4735-c124-4fe5-842b-571c1dd144c5",
   "metadata": {},
   "outputs": [],
   "source": [
    "cara = 0\n",
    "coroa = 0\n",
    "\n",
    "for i in range(0, quantidadeRoletadas):\n",
    "    resultado = jogarMoeda()\n",
    "    \n",
    "    if resultado == \"cara\":\n",
    "        cara = cara + 1\n",
    "    else:\n",
    "        coroa = coroa + 1"
   ]
  },
  {
   "cell_type": "code",
   "execution_count": 16,
   "id": "56ee9bb6-cc7d-4f53-8f78-c0ca40539669",
   "metadata": {},
   "outputs": [
    {
     "name": "stdout",
     "output_type": "stream",
     "text": [
      "╒═════════════╤══════════╤═══════════════╕\n",
      "│ Resultado   │   Obtido │ Porcentagem   │\n",
      "╞═════════════╪══════════╪═══════════════╡\n",
      "│ Cara        │   249357 │ 49.87%        │\n",
      "├─────────────┼──────────┼───────────────┤\n",
      "│ Coroa       │   250643 │ 50.13%        │\n",
      "╘═════════════╧══════════╧═══════════════╛\n"
     ]
    }
   ],
   "source": [
    "tabela_moedas = {\n",
    "    'Resultado': ['Cara', 'Coroa'],\n",
    "    'Obtido' : [cara, coroa],\n",
    "    'Porcentagem' : [f'{round(cara * 100 / quantidadeRoletadas, 2)}%', f'{round(coroa * 100 / quantidadeRoletadas, 2)}%']\n",
    "}\n",
    "\n",
    "print(tabulate(tabela_moedas, headers='keys', tablefmt='fancy_grid'))"
   ]
  },
  {
   "cell_type": "markdown",
   "id": "f045fc32-9c5c-4597-b1bc-812e2e02006a",
   "metadata": {},
   "source": [
    "---"
   ]
  },
  {
   "cell_type": "markdown",
   "id": "be491cf1-07dc-416e-9960-9a93cf60162d",
   "metadata": {},
   "source": [
    "## Soma do resultado de dois dados"
   ]
  },
  {
   "cell_type": "markdown",
   "id": "903326b9-146e-499c-8d84-400622463b92",
   "metadata": {},
   "source": [
    "Neste teste iremos realizar o lançamento de dois dados e somar seus resultados."
   ]
  },
  {
   "cell_type": "markdown",
   "id": "55732069-1d58-4453-a9a4-5625013c49c9",
   "metadata": {},
   "source": [
    "Para descobrirmos a probalidade disso, primeiro vamos descobrir o espaço amostral:\n",
    "\n",
    "$\\Omega = \\left[\\begin{matrix}\n",
    "  (1, 1) & (1, 2) & (1, 3) & (1, 4) & (1, 5) & (1, 6) \\\\\n",
    "  (2, 1) & (2, 2) & (2, 3) & (2, 4) & (2, 5) & (2, 6) \\\\\n",
    "  (3, 1) & (3, 2) & (3, 3) & (3, 4) & (3, 5) & (3, 6) \\\\\n",
    "  (4, 1) & (4, 2) & (4, 3) & (4, 4) & (4, 5) & (4, 6) \\\\\n",
    "  (5, 1) & (5, 2) & (5, 3) & (5, 4) & (5, 5) & (5, 6) \\\\\n",
    "  (6, 1) & (6, 2) & (6, 3) & (6, 4) & (6, 5) & (6, 6)\n",
    " \\end{matrix}\\right]$\n",
    "\n",
    "Com isso, nós podemos verificar as chances da soma dos dados retornar um determinado valor. Por exemplo:\n",
    "\n",
    "### Chance de retornar o valor 5\n",
    "\n",
    "Irá retornar o valor 5 com os seguintes valores de dado:\n",
    "\n",
    "$ (1, 4); (4, 1); (2, 3); (3, 2) $\n",
    "\n",
    "Ou seja, temos 4 probalidades para que a soma dos dois dados retorne o valor 5.\n",
    "\n",
    "#### $\\frac{4}{36} = 0.1111 \\approx 11.11 $ % \n"
   ]
  },
  {
   "cell_type": "code",
   "execution_count": 7,
   "id": "7e5d24f0-510e-49ee-b6cd-c3eefd0834de",
   "metadata": {},
   "outputs": [],
   "source": [
    "def roletarDado():\n",
    "    dado = (1, 2, 3, 4, 5, 6)\n",
    "    return random.choice(dado)"
   ]
  },
  {
   "cell_type": "code",
   "execution_count": 8,
   "id": "686dc7b8-6297-460a-ba1c-35beb9b21387",
   "metadata": {},
   "outputs": [],
   "source": [
    "R2 = R3 = R4 = R5 = R6 = R7 = R8 = R9 = R10 = R11 = R12 = 0  \n",
    "\n",
    "for i in range(0, quantidadeRoletadas): \n",
    "    soma = roletarDado() + roletarDado()\n",
    "    \n",
    "    if soma == 2:\n",
    "        R2 = R2 + 1\n",
    "    elif soma == 3:\n",
    "        R3 = R3 + 1\n",
    "    elif soma == 4:\n",
    "        R4 = R4 + 1\n",
    "    elif soma == 5:\n",
    "        R5 = R5 + 1\n",
    "    elif soma == 6:\n",
    "        R6 = R6 + 1\n",
    "    elif soma == 7:\n",
    "        R7 = R7 + 1\n",
    "    elif soma == 8:\n",
    "        R8 = R8 + 1\n",
    "    elif soma == 9:\n",
    "        R9 = R9 + 1\n",
    "    elif soma == 10:\n",
    "        R10 = R10 + 1\n",
    "    elif soma == 11:\n",
    "        R11 = R11 + 1\n",
    "    else:\n",
    "        R12 = R12 + 1"
   ]
  },
  {
   "cell_type": "code",
   "execution_count": 18,
   "id": "d72de19a-7f59-4075-a9df-76b14b887f11",
   "metadata": {},
   "outputs": [
    {
     "name": "stdout",
     "output_type": "stream",
     "text": [
      "╒═════════════╤══════════╤═══════════════╕\n",
      "│ Resultado   │   Obtido │ Porcentagem   │\n",
      "╞═════════════╪══════════╪═══════════════╡\n",
      "│ Soma 2      │    13670 │ 2.73%         │\n",
      "├─────────────┼──────────┼───────────────┤\n",
      "│ Soma 3      │    27793 │ 5.56%         │\n",
      "├─────────────┼──────────┼───────────────┤\n",
      "│ Soma 4      │    41597 │ 8.32%         │\n",
      "├─────────────┼──────────┼───────────────┤\n",
      "│ Soma 5      │    55506 │ 11.1%         │\n",
      "├─────────────┼──────────┼───────────────┤\n",
      "│ Soma 6      │    69463 │ 13.89%        │\n",
      "├─────────────┼──────────┼───────────────┤\n",
      "│ Soma 7      │    83331 │ 16.67%        │\n",
      "├─────────────┼──────────┼───────────────┤\n",
      "│ Soma 8      │    69691 │ 13.94%        │\n",
      "├─────────────┼──────────┼───────────────┤\n",
      "│ Soma 9      │    55471 │ 11.09%        │\n",
      "├─────────────┼──────────┼───────────────┤\n",
      "│ Soma 10     │    41775 │ 8.36%         │\n",
      "├─────────────┼──────────┼───────────────┤\n",
      "│ Soma 11     │    27652 │ 5.53%         │\n",
      "├─────────────┼──────────┼───────────────┤\n",
      "│ Soma 12     │    14051 │ 2.81%         │\n",
      "╘═════════════╧══════════╧═══════════════╛\n"
     ]
    }
   ],
   "source": [
    "tabela_dados = {\n",
    "    'Resultado' : ['Soma 2', 'Soma 3', 'Soma 4', 'Soma 5', 'Soma 6', 'Soma 7', 'Soma 8', 'Soma 9', 'Soma 10', 'Soma 11', 'Soma 12'],\n",
    "    'Obtido' : [R2, R3, R4, R5, R6, R7, R8, R9, R10, R11, R12],\n",
    "    'Porcentagem' : [\n",
    "        f'{round(R2 * 100 / quantidadeRoletadas, 2)}%',\n",
    "        f'{round(R3 * 100 / quantidadeRoletadas, 2)}%',\n",
    "        f'{round(R4 * 100 / quantidadeRoletadas, 2)}%',\n",
    "        f'{round(R5 * 100 / quantidadeRoletadas, 2)}%',\n",
    "        f'{round(R6 * 100 / quantidadeRoletadas, 2)}%',\n",
    "        f'{round(R7 * 100 / quantidadeRoletadas, 2)}%',\n",
    "        f'{round(R8 * 100 / quantidadeRoletadas, 2)}%',\n",
    "        f'{round(R9 * 100 / quantidadeRoletadas, 2)}%',\n",
    "        f'{round(R10 * 100 / quantidadeRoletadas, 2)}%',\n",
    "        f'{round(R11 * 100 / quantidadeRoletadas, 2)}%',\n",
    "        f'{round(R12 * 100 / quantidadeRoletadas, 2)}%'\n",
    "    ]\n",
    "}\n",
    "\n",
    "print(tabulate(tabela_dados, headers='keys', tablefmt='fancy_grid'))"
   ]
  }
 ],
 "metadata": {
  "kernelspec": {
   "display_name": "Python 3",
   "language": "python",
   "name": "python3"
  },
  "language_info": {
   "codemirror_mode": {
    "name": "ipython",
    "version": 3
   },
   "file_extension": ".py",
   "mimetype": "text/x-python",
   "name": "python",
   "nbconvert_exporter": "python",
   "pygments_lexer": "ipython3",
   "version": "3.9.2"
  }
 },
 "nbformat": 4,
 "nbformat_minor": 5
}
