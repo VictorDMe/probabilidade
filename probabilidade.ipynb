{
 "cells": [
  {
   "cell_type": "markdown",
   "id": "76410105-0867-4517-9889-4da97d07a025",
   "metadata": {},
   "source": [
    "# Probalidade"
   ]
  },
  {
   "cell_type": "code",
   "execution_count": 1,
   "id": "6101d497-5da0-4bd5-91e9-544664992156",
   "metadata": {},
   "outputs": [],
   "source": [
    "from collections import Counter as ct"
   ]
  },
  {
   "cell_type": "markdown",
   "id": "a8c7c125-a1fe-4b0d-a133-444fe3c7c3a7",
   "metadata": {},
   "source": [
    "Utilizaremos o módulo Counter para facilitar a contagem de elementos"
   ]
  },
  {
   "cell_type": "code",
   "execution_count": 2,
   "id": "3995c332-3d4f-4d43-9eb0-ad0c962309d9",
   "metadata": {},
   "outputs": [],
   "source": [
    "import random"
   ]
  },
  {
   "cell_type": "markdown",
   "id": "800e5055-8874-40eb-b5cb-92649a136995",
   "metadata": {},
   "source": [
    "Utilizaremos o módulo random para sortear valores diversos e, assim, ter uma probabilidade mais sólida"
   ]
  },
  {
   "cell_type": "code",
   "execution_count": 3,
   "id": "6404e1c6-cf20-4471-950b-f0cf4c9eb562",
   "metadata": {},
   "outputs": [],
   "source": [
    "from tabulate import tabulate"
   ]
  },
  {
   "cell_type": "markdown",
   "id": "12f097ca-6cd5-4704-8608-cb584db80de5",
   "metadata": {},
   "source": [
    "Iremos usar o módulo tabulate para criar tabelas com os resultados obtidos"
   ]
  },
  {
   "cell_type": "code",
   "execution_count": 4,
   "id": "443a6e21-7406-4dc9-8cc7-27ace4f5a06b",
   "metadata": {},
   "outputs": [],
   "source": [
    "q_roletas = 500000"
   ]
  },
  {
   "cell_type": "markdown",
   "id": "ac5b9a90-1167-47a1-ad2a-002eb283fd72",
   "metadata": {},
   "source": [
    "Aqui iremos apenas colocar a quantidade de roletadas que serão feitas para cada um dos testes deste documento"
   ]
  },
  {
   "cell_type": "markdown",
   "id": "aea4d87e-62d3-48b2-9a42-7be48617f989",
   "metadata": {},
   "source": [
    "---"
   ]
  },
  {
   "cell_type": "markdown",
   "id": "9a05c770-09dc-44db-b051-6fa8fddbbe4e",
   "metadata": {},
   "source": [
    "## Lançamento de moeda"
   ]
  },
  {
   "cell_type": "markdown",
   "id": "46f76b63-df33-4627-9b32-4b6e873a8c28",
   "metadata": {},
   "source": [
    "O primeiro teste será de um simples lançamento de moeda. Como sabemos, os únicos resultados possíveis é cara ou coroa, ou seja, a probalidade será de, aproximadamente, 50%"
   ]
  },
  {
   "cell_type": "code",
   "execution_count": 5,
   "id": "07ca71cf-9e32-48f7-897f-7f4002ba2e7e",
   "metadata": {},
   "outputs": [],
   "source": [
    "def jogarMoeda(quantidade):\n",
    "    moeda, escolha = ('cara', 'coroa'), []\n",
    "    \n",
    "    for x in range(quantidade):\n",
    "        escolha.append(random.choice(moeda))\n",
    "            \n",
    "    return ct(escolha)\n",
    "    #Essa função irá retornar um dicionário com a quantidade de vezes que coroa e cara apareceram"
   ]
  },
  {
   "cell_type": "code",
   "execution_count": 6,
   "id": "56ee9bb6-cc7d-4f53-8f78-c0ca40539669",
   "metadata": {},
   "outputs": [
    {
     "name": "stdout",
     "output_type": "stream",
     "text": [
      "╒═════════════╤══════════╤═══════════════╕\n",
      "│ Resultado   │   Obtido │ Porcentagem   │\n",
      "╞═════════════╪══════════╪═══════════════╡\n",
      "│ Cara        │   250148 │ 50.03%        │\n",
      "├─────────────┼──────────┼───────────────┤\n",
      "│ Coroa       │   249852 │ 49.97%        │\n",
      "╘═════════════╧══════════╧═══════════════╛\n"
     ]
    }
   ],
   "source": [
    "resultadoMoedas = jogarMoeda(q_roletas)\n",
    "print(tabulate({\n",
    "    'Resultado': ['Cara', 'Coroa'],\n",
    "    'Obtido' : [resultadoMoedas['cara'], resultadoMoedas['coroa']],\n",
    "    'Porcentagem' : [f'{round(resultadoMoedas[\"cara\"] * 100 / q_roletas, 2)}%', \n",
    "                     f'{round(resultadoMoedas[\"coroa\"] * 100 / q_roletas, 2)}%']}, \n",
    "    headers='keys', tablefmt='fancy_grid'))"
   ]
  },
  {
   "cell_type": "markdown",
   "id": "f045fc32-9c5c-4597-b1bc-812e2e02006a",
   "metadata": {},
   "source": [
    "---"
   ]
  },
  {
   "cell_type": "markdown",
   "id": "be491cf1-07dc-416e-9960-9a93cf60162d",
   "metadata": {},
   "source": [
    "## Soma do resultado de dois dados"
   ]
  },
  {
   "cell_type": "markdown",
   "id": "903326b9-146e-499c-8d84-400622463b92",
   "metadata": {},
   "source": [
    "Neste teste iremos realizar o lançamento de dois dados e somar seus resultados."
   ]
  },
  {
   "cell_type": "markdown",
   "id": "55732069-1d58-4453-a9a4-5625013c49c9",
   "metadata": {},
   "source": [
    "Para descobrirmos a probalidade disso, primeiro vamos descobrir o espaço amostral:\n",
    "\n",
    "$\\Omega = \\left[\\begin{matrix}\n",
    "  (1, 1) & (1, 2) & (1, 3) & (1, 4) & (1, 5) & (1, 6) \\\\\n",
    "  (2, 1) & (2, 2) & (2, 3) & (2, 4) & (2, 5) & (2, 6) \\\\\n",
    "  (3, 1) & (3, 2) & (3, 3) & (3, 4) & (3, 5) & (3, 6) \\\\\n",
    "  (4, 1) & (4, 2) & (4, 3) & (4, 4) & (4, 5) & (4, 6) \\\\\n",
    "  (5, 1) & (5, 2) & (5, 3) & (5, 4) & (5, 5) & (5, 6) \\\\\n",
    "  (6, 1) & (6, 2) & (6, 3) & (6, 4) & (6, 5) & (6, 6)\n",
    " \\end{matrix}\\right]$\n",
    "\n",
    "Com isso, nós podemos verificar as chances da soma dos dados retornar um determinado valor. Por exemplo:\n",
    "\n",
    "### Chance de retornar o valor 5\n",
    "\n",
    "Irá retornar o valor 5 com os seguintes valores de dado:\n",
    "\n",
    "$ (1, 4); (4, 1); (2, 3); (3, 2) $\n",
    "\n",
    "Ou seja, temos 4 probalidades para que a soma dos dois dados retorne o valor 5.\n",
    "\n",
    "#### $\\frac{4}{36} = 0.1111 \\approx 11.11 $ % \n"
   ]
  },
  {
   "cell_type": "code",
   "execution_count": 25,
   "id": "7e5d24f0-510e-49ee-b6cd-c3eefd0834de",
   "metadata": {},
   "outputs": [],
   "source": [
    "def roletarDado(quantidade):\n",
    "    dado, resultado = (1, 2, 3, 4, 5, 6), []\n",
    "    for x in range(quantidade):\n",
    "        resultado.append(random.choice(dado) + random.choice(dado))\n",
    "    return ct(resultado)"
   ]
  },
  {
   "cell_type": "markdown",
   "id": "f8e91b8d-6bb6-471c-86f6-b1fe40627e0c",
   "metadata": {},
   "source": [
    "fUN"
   ]
  },
  {
   "cell_type": "code",
   "execution_count": 72,
   "id": "d72de19a-7f59-4075-a9df-76b14b887f11",
   "metadata": {},
   "outputs": [
    {
     "name": "stdout",
     "output_type": "stream",
     "text": [
      "Counter({7: 82909, 8: 69852, 6: 69842, 5: 55745, 9: 55113, 4: 41818, 10: 41385, 11: 27732, 3: 27713, 12: 14100, 2: 13791})\n",
      "╒═════════════╤══════════╤═══════════════╕\n",
      "│ Resultado   │   Obtido │ Porcentagem   │\n",
      "╞═════════════╪══════════╪═══════════════╡\n",
      "│ Soma 2      │        2 │ 2.76%         │\n",
      "├─────────────┼──────────┼───────────────┤\n",
      "│ Soma 3      │        3 │ 5.54%         │\n",
      "├─────────────┼──────────┼───────────────┤\n",
      "│ Soma 4      │        4 │ 8.36%         │\n",
      "├─────────────┼──────────┼───────────────┤\n",
      "│ Soma 5      │        5 │ 11.15%        │\n",
      "├─────────────┼──────────┼───────────────┤\n",
      "│ Soma 6      │        6 │ 13.97%        │\n",
      "├─────────────┼──────────┼───────────────┤\n",
      "│ Soma 7      │        7 │ 16.58%        │\n",
      "├─────────────┼──────────┼───────────────┤\n",
      "│ Soma 8      │        8 │ 13.97%        │\n",
      "├─────────────┼──────────┼───────────────┤\n",
      "│ Soma 9      │        9 │ 11.02%        │\n",
      "├─────────────┼──────────┼───────────────┤\n",
      "│ Soma 10     │       10 │ 8.28%         │\n",
      "├─────────────┼──────────┼───────────────┤\n",
      "│ Soma 11     │       11 │ 5.55%         │\n",
      "├─────────────┼──────────┼───────────────┤\n",
      "│ Soma 12     │       12 │ 2.82%         │\n",
      "╘═════════════╧══════════╧═══════════════╛\n"
     ]
    }
   ],
   "source": [
    "resultadoDados = roletarDado(q_roletas)\n",
    "print(resultadoDados)\n",
    "\n",
    "print(tabulate({\n",
    "    'Resultado' : ['Soma 2', 'Soma 3', 'Soma 4', 'Soma 5', 'Soma 6', 'Soma 7', 'Soma 8', 'Soma 9', 'Soma 10', 'Soma 11', 'Soma 12'],\n",
    "    'Obtido' : [x for x in range(2, 13)],\n",
    "    'Porcentagem' : [\n",
    "        f'{round(resultadoDados[2] * 100 / q_roletas, 2)}%',\n",
    "        f'{round(resultadoDados[3] * 100 / q_roletas, 2)}%',\n",
    "        f'{round(resultadoDados[4] * 100 / q_roletas, 2)}%',\n",
    "        f'{round(resultadoDados[5] * 100 / q_roletas, 2)}%',\n",
    "        f'{round(resultadoDados[6] * 100 / q_roletas, 2)}%',\n",
    "        f'{round(resultadoDados[7] * 100 / q_roletas, 2)}%',\n",
    "        f'{round(resultadoDados[8] * 100 / q_roletas, 2)}%', \n",
    "        f'{round(resultadoDados[9] * 100 / q_roletas, 2)}%',\n",
    "        f'{round(resultadoDados[10] * 100 / q_roletas, 2)}%',\n",
    "        f'{round(resultadoDados[11] * 100 / q_roletas, 2)}%',\n",
    "        f'{round(resultadoDados[12] * 100 / q_roletas, 2)}%',]},\n",
    "    headers='keys', tablefmt='fancy_grid'))"
   ]
  }
 ],
 "metadata": {
  "kernelspec": {
   "display_name": "Python 3",
   "language": "python",
   "name": "python3"
  },
  "language_info": {
   "codemirror_mode": {
    "name": "ipython",
    "version": 3
   },
   "file_extension": ".py",
   "mimetype": "text/x-python",
   "name": "python",
   "nbconvert_exporter": "python",
   "pygments_lexer": "ipython3",
   "version": "3.9.2"
  }
 },
 "nbformat": 4,
 "nbformat_minor": 5
}
